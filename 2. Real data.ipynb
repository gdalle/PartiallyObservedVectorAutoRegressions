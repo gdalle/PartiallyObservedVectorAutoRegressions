{
 "cells": [
  {
   "cell_type": "markdown",
   "metadata": {},
   "source": [
    "# Imports"
   ]
  },
  {
   "cell_type": "markdown",
   "metadata": {},
   "source": [
    "Data paths to modify (where data files should be saved)"
   ]
  },
  {
   "cell_type": "code",
   "execution_count": 1,
   "metadata": {},
   "outputs": [],
   "source": [
    "STOP_DATA_DIR = \"/home/guillaume/Documents/OpenData/Switzerland_transport/BAV_Liste/\"\n",
    "TIME_DATA_DIR = \"/home/guillaume/Documents/OpenData/Switzerland_transport/Actual_data/\""
   ]
  },
  {
   "cell_type": "markdown",
   "metadata": {},
   "source": [
    "Plot path to modify (where figures are saved)"
   ]
  },
  {
   "cell_type": "code",
   "execution_count": 2,
   "metadata": {},
   "outputs": [],
   "source": [
    "PLOT_DIR = \"plots/real_data/\""
   ]
  },
  {
   "cell_type": "markdown",
   "metadata": {},
   "source": [
    "Automatic re-import upon source changes"
   ]
  },
  {
   "cell_type": "code",
   "execution_count": 3,
   "metadata": {
    "ExecuteTime": {
     "end_time": "2021-06-07T15:08:26.607942Z",
     "start_time": "2021-06-07T15:08:26.595115Z"
    }
   },
   "outputs": [],
   "source": [
    "%load_ext autoreload\n",
    "%autoreload 2"
   ]
  },
  {
   "cell_type": "markdown",
   "metadata": {},
   "source": [
    "Imports"
   ]
  },
  {
   "cell_type": "code",
   "execution_count": 4,
   "metadata": {
    "ExecuteTime": {
     "end_time": "2021-06-07T15:08:28.250320Z",
     "start_time": "2021-06-07T15:08:28.224854Z"
    }
   },
   "outputs": [],
   "source": [
    "import itertools\n",
    "import os\n",
    "\n",
    "from ipywidgets import interact, interact_manual, fixed\n",
    "import matplotlib.pyplot as plt\n",
    "import networkx as nx\n",
    "import numpy as np\n",
    "import pandas as pd\n",
    "from tqdm.notebook import tqdm"
   ]
  },
  {
   "cell_type": "code",
   "execution_count": 5,
   "metadata": {},
   "outputs": [],
   "source": [
    "from src import *"
   ]
  },
  {
   "cell_type": "markdown",
   "metadata": {},
   "source": [
    "Plot config"
   ]
  },
  {
   "cell_type": "code",
   "execution_count": 6,
   "metadata": {
    "ExecuteTime": {
     "end_time": "2021-06-07T15:08:29.326301Z",
     "start_time": "2021-06-07T15:08:29.301757Z"
    }
   },
   "outputs": [],
   "source": [
    "%matplotlib inline"
   ]
  },
  {
   "cell_type": "markdown",
   "metadata": {
    "ExecuteTime": {
     "end_time": "2021-04-16T13:45:18.866756Z",
     "start_time": "2021-04-16T13:45:18.847220Z"
    }
   },
   "source": [
    "Absolute paths"
   ]
  },
  {
   "cell_type": "markdown",
   "metadata": {},
   "source": [
    "# Downloading / reading the data"
   ]
  },
  {
   "cell_type": "markdown",
   "metadata": {},
   "source": [
    "## Stops data"
   ]
  },
  {
   "cell_type": "markdown",
   "metadata": {},
   "source": [
    "Source: https://opentransportdata.swiss/en/dataset/bav_liste"
   ]
  },
  {
   "cell_type": "code",
   "execution_count": 7,
   "metadata": {
    "ExecuteTime": {
     "end_time": "2021-06-07T15:08:32.762933Z",
     "start_time": "2021-06-07T15:08:32.740479Z"
    }
   },
   "outputs": [],
   "source": [
    "stops_path = STOP_DATA_DIR + \"stops.parquet\""
   ]
  },
  {
   "cell_type": "code",
   "execution_count": 8,
   "metadata": {},
   "outputs": [],
   "source": [
    "download_stops_data(os.path.join(STOP_DATA_DIR, \"stops.xlsx\"))"
   ]
  },
  {
   "cell_type": "code",
   "execution_count": 11,
   "metadata": {},
   "outputs": [
    {
     "data": {
      "application/vnd.jupyter.widget-view+json": {
       "model_id": "485e106c940440ecb05712bdc405e4b8",
       "version_major": 2,
       "version_minor": 0
      },
      "text/plain": [
       "Computing latitude :   0%|          | 0/28757 [00:00<?, ?it/s]"
      ]
     },
     "metadata": {},
     "output_type": "display_data"
    },
    {
     "data": {
      "application/vnd.jupyter.widget-view+json": {
       "model_id": "de0c108a1f844fa0881ae2ae8d42f328",
       "version_major": 2,
       "version_minor": 0
      },
      "text/plain": [
       "Computing longitude :   0%|          | 0/28757 [00:00<?, ?it/s]"
      ]
     },
     "metadata": {},
     "output_type": "display_data"
    }
   ],
   "source": [
    "stops = read_stops_data(os.path.join(STOP_DATA_DIR, \"stops.xlsx\"))"
   ]
  },
  {
   "cell_type": "code",
   "execution_count": 14,
   "metadata": {},
   "outputs": [],
   "source": [
    "stops.to_parquet(stops_path)"
   ]
  },
  {
   "cell_type": "code",
   "execution_count": 15,
   "metadata": {
    "ExecuteTime": {
     "end_time": "2021-06-07T15:08:34.752982Z",
     "start_time": "2021-06-07T15:08:34.613039Z"
    }
   },
   "outputs": [],
   "source": [
    "stops = pd.read_parquet(stops_path)"
   ]
  },
  {
   "cell_type": "markdown",
   "metadata": {},
   "source": [
    "## Time data"
   ]
  },
  {
   "cell_type": "markdown",
   "metadata": {},
   "source": [
    "Before executing the next few cells/go to https://drive.google.com/drive/folders/1SVa68nJJRL3qgRSPKcXY7KuPN9MuHVhJ and download each monthly zip archive into a folder named `zip` within directory `TIME_DATA_DIR`. In this same directory, create other folders named `parquet_daily` and `parquet_monthly`."
   ]
  },
  {
   "cell_type": "code",
   "execution_count": null,
   "metadata": {
    "ExecuteTime": {
     "end_time": "2021-06-07T15:08:37.403788Z",
     "start_time": "2021-06-07T15:08:37.381914Z"
    }
   },
   "outputs": [],
   "source": [
    "MONTHLY_ZIP_DIR_PATH = os.path.join(TIME_DATA_DIR, \"zip\")\n",
    "DAILY_PARQUET_DIR_PATH = os.path.join(TIME_DATA_DIR, \"parquet_daily\")\n",
    "MONTHLY_PARQUET_DIR_PATH = os.path.join(TIME_DATA_DIR, \"parquet_monthly\")"
   ]
  },
  {
   "cell_type": "markdown",
   "metadata": {},
   "source": [
    "Beware: the following cell can take several hours to run."
   ]
  },
  {
   "cell_type": "code",
   "execution_count": null,
   "metadata": {},
   "outputs": [],
   "source": [
    "unzip_months_store_days(MONTHLY_ZIP_DIR_PATH, DAILY_PARQUET_DIR_PATH)\n",
    "read_days_store_months(DAILY_PARQUET_DIR_PATH, MONTHLY_PARQUET_DIR_PATH)"
   ]
  },
  {
   "cell_type": "code",
   "execution_count": null,
   "metadata": {},
   "outputs": [],
   "source": [
    "data = read_months_return_full(MONTHLY_PARQUET_DIR_PATH, years=[2018, 2019])"
   ]
  },
  {
   "cell_type": "markdown",
   "metadata": {},
   "source": [
    "# Preprocessing"
   ]
  },
  {
   "cell_type": "code",
   "execution_count": null,
   "metadata": {
    "ExecuteTime": {
     "end_time": "2021-06-07T15:09:40.177386Z",
     "start_time": "2021-06-07T15:09:40.155101Z"
    }
   },
   "outputs": [],
   "source": [
    "data.dtypes"
   ]
  },
  {
   "cell_type": "markdown",
   "metadata": {},
   "source": [
    "Drop the columns we won't use"
   ]
  },
  {
   "cell_type": "code",
   "execution_count": null,
   "metadata": {
    "ExecuteTime": {
     "end_time": "2021-06-07T15:11:06.973577Z",
     "start_time": "2021-06-07T15:11:05.301699Z"
    }
   },
   "outputs": [],
   "source": [
    "data = drop_useless_columns(data)"
   ]
  },
  {
   "cell_type": "markdown",
   "metadata": {},
   "source": [
    "Uncategorize categorical variables for future group-bys"
   ]
  },
  {
   "cell_type": "code",
   "execution_count": null,
   "metadata": {
    "ExecuteTime": {
     "end_time": "2021-06-07T15:11:44.366976Z",
     "start_time": "2021-06-07T15:11:26.353339Z"
    }
   },
   "outputs": [],
   "source": [
    "data = uncategorize(data)"
   ]
  },
  {
   "cell_type": "markdown",
   "metadata": {},
   "source": [
    "Remove skipped or unplanned stops and cancelled trips"
   ]
  },
  {
   "cell_type": "code",
   "execution_count": null,
   "metadata": {
    "ExecuteTime": {
     "end_time": "2021-06-07T15:12:03.141092Z",
     "start_time": "2021-06-07T15:11:55.281598Z"
    }
   },
   "outputs": [],
   "source": [
    "data = remove_skipped_unplanned_cancelled(data)"
   ]
  },
  {
   "cell_type": "markdown",
   "metadata": {},
   "source": [
    "Select the event types we want"
   ]
  },
  {
   "cell_type": "code",
   "execution_count": null,
   "metadata": {
    "ExecuteTime": {
     "end_time": "2021-06-07T15:12:15.394530Z",
     "start_time": "2021-06-07T15:12:03.142151Z"
    }
   },
   "outputs": [],
   "source": [
    "data = keep_only_arrivals(data)"
   ]
  },
  {
   "cell_type": "markdown",
   "metadata": {},
   "source": [
    "# EDA and cleaning"
   ]
  },
  {
   "cell_type": "code",
   "execution_count": null,
   "metadata": {
    "ExecuteTime": {
     "end_time": "2021-06-07T15:12:45.891646Z",
     "start_time": "2021-06-07T15:12:45.804309Z"
    }
   },
   "outputs": [],
   "source": [
    "data.dtypes"
   ]
  },
  {
   "cell_type": "markdown",
   "metadata": {},
   "source": [
    "## Data quantity"
   ]
  },
  {
   "cell_type": "markdown",
   "metadata": {},
   "source": [
    "Size"
   ]
  },
  {
   "cell_type": "code",
   "execution_count": null,
   "metadata": {
    "ExecuteTime": {
     "end_time": "2021-06-07T15:13:16.701383Z",
     "start_time": "2021-06-07T15:13:16.678607Z"
    }
   },
   "outputs": [],
   "source": [
    "data.shape"
   ]
  },
  {
   "cell_type": "code",
   "execution_count": null,
   "metadata": {
    "ExecuteTime": {
     "end_time": "2021-06-07T15:13:17.275046Z",
     "start_time": "2021-06-07T15:13:17.241065Z"
    }
   },
   "outputs": [],
   "source": [
    "data.memory_usage() / 1e9"
   ]
  },
  {
   "cell_type": "code",
   "execution_count": null,
   "metadata": {
    "ExecuteTime": {
     "end_time": "2021-06-07T15:13:23.154969Z",
     "start_time": "2021-06-07T15:13:23.128271Z"
    }
   },
   "outputs": [],
   "source": [
    "data.memory_usage().sum() / 1e9"
   ]
  },
  {
   "cell_type": "markdown",
   "metadata": {},
   "source": [
    "Month heterogeneity"
   ]
  },
  {
   "cell_type": "code",
   "execution_count": null,
   "metadata": {
    "ExecuteTime": {
     "end_time": "2021-06-07T15:13:44.881464Z",
     "start_time": "2021-06-07T15:13:35.816156Z"
    }
   },
   "outputs": [],
   "source": [
    "months_since_start = 12*(data[\"date\"].dt.year-2018) + data[\"date\"].dt.month\n",
    "month_freq = data.groupby(months_since_start).size()"
   ]
  },
  {
   "cell_type": "code",
   "execution_count": null,
   "metadata": {
    "ExecuteTime": {
     "end_time": "2021-06-07T15:14:09.606167Z",
     "start_time": "2021-06-07T15:14:09.414503Z"
    },
    "scrolled": true
   },
   "outputs": [],
   "source": [
    "plt.close()\n",
    "plt.bar(month_freq.index, month_freq)\n",
    "plt.xlabel(\"Months since Jan 2018\")\n",
    "plt.ylabel(\"Nb of observations\")\n",
    "plt.savefig(PLOT_DIR + \"month_freq.pdf\")\n",
    "plt.show()"
   ]
  },
  {
   "cell_type": "code",
   "execution_count": null,
   "metadata": {
    "ExecuteTime": {
     "end_time": "2021-06-07T15:14:11.509387Z",
     "start_time": "2021-06-07T15:14:10.599414Z"
    }
   },
   "outputs": [],
   "source": [
    "normal_months = month_freq[\n",
    "    month_freq > 0.75*month_freq.median()\n",
    "].index.tolist()\n",
    "\n",
    "is_normal_month = months_since_start.isin(normal_months)"
   ]
  },
  {
   "cell_type": "code",
   "execution_count": null,
   "metadata": {
    "ExecuteTime": {
     "end_time": "2021-06-07T15:14:11.576838Z",
     "start_time": "2021-06-07T15:14:11.510520Z"
    }
   },
   "outputs": [],
   "source": [
    "is_normal_month.mean()"
   ]
  },
  {
   "cell_type": "markdown",
   "metadata": {},
   "source": [
    "Weekday heterogeneity"
   ]
  },
  {
   "cell_type": "code",
   "execution_count": null,
   "metadata": {
    "ExecuteTime": {
     "end_time": "2021-06-07T15:14:17.558626Z",
     "start_time": "2021-06-07T15:14:12.260612Z"
    }
   },
   "outputs": [],
   "source": [
    "weekday_freq = data.groupby(\n",
    "    data[\"date\"].dt.weekday\n",
    ").size()"
   ]
  },
  {
   "cell_type": "code",
   "execution_count": null,
   "metadata": {
    "ExecuteTime": {
     "end_time": "2021-06-07T15:14:17.731381Z",
     "start_time": "2021-06-07T15:14:17.559946Z"
    }
   },
   "outputs": [],
   "source": [
    "plt.close()\n",
    "plt.bar(weekday_freq.index + 1, weekday_freq)\n",
    "plt.xlabel(\"Weekday\")\n",
    "plt.ylabel(\"Nb of observations\")\n",
    "plt.savefig(PLOT_DIR + \"weekday_freq.pdf\")\n",
    "plt.show()"
   ]
  },
  {
   "cell_type": "code",
   "execution_count": null,
   "metadata": {
    "ExecuteTime": {
     "end_time": "2021-06-07T15:14:22.998409Z",
     "start_time": "2021-06-07T15:14:18.724932Z"
    }
   },
   "outputs": [],
   "source": [
    "is_weekday = data[\"date\"].dt.weekday <= 4"
   ]
  },
  {
   "cell_type": "code",
   "execution_count": null,
   "metadata": {
    "ExecuteTime": {
     "end_time": "2021-06-07T15:14:23.062721Z",
     "start_time": "2021-06-07T15:14:22.999464Z"
    }
   },
   "outputs": [],
   "source": [
    "is_weekday.mean()"
   ]
  },
  {
   "cell_type": "markdown",
   "metadata": {
    "ExecuteTime": {
     "end_time": "2021-05-28T09:01:56.901360Z",
     "start_time": "2021-05-28T09:01:56.881802Z"
    }
   },
   "source": [
    "Hour heterogeneity"
   ]
  },
  {
   "cell_type": "code",
   "execution_count": null,
   "metadata": {
    "ExecuteTime": {
     "end_time": "2021-06-07T15:14:28.644659Z",
     "start_time": "2021-06-07T15:14:24.102214Z"
    }
   },
   "outputs": [],
   "source": [
    "hour_freq = data.groupby(\n",
    "    data[\"event_time_planned\"].dt.hour\n",
    ").size()"
   ]
  },
  {
   "cell_type": "code",
   "execution_count": null,
   "metadata": {
    "ExecuteTime": {
     "end_time": "2021-06-07T15:14:29.198491Z",
     "start_time": "2021-06-07T15:14:28.645747Z"
    }
   },
   "outputs": [],
   "source": [
    "plt.close()\n",
    "plt.bar(hour_freq.index + 1, hour_freq)\n",
    "plt.xlabel(\"Hour of day\")\n",
    "plt.ylabel(\"Nb of observations\")\n",
    "plt.savefig(PLOT_DIR + \"hour_freq.pdf\")\n",
    "plt.show()"
   ]
  },
  {
   "cell_type": "code",
   "execution_count": null,
   "metadata": {
    "ExecuteTime": {
     "end_time": "2021-06-07T15:14:37.574124Z",
     "start_time": "2021-06-07T15:14:29.504724Z"
    }
   },
   "outputs": [],
   "source": [
    "is_evening_peak = (\n",
    "    (17 <= data[\"event_time_planned\"].dt.hour)\n",
    "    & (data[\"event_time_planned\"].dt.hour <= 19)\n",
    ")"
   ]
  },
  {
   "cell_type": "code",
   "execution_count": null,
   "metadata": {
    "ExecuteTime": {
     "end_time": "2021-06-07T15:14:37.638437Z",
     "start_time": "2021-06-07T15:14:37.575178Z"
    }
   },
   "outputs": [],
   "source": [
    "is_evening_peak.mean()"
   ]
  },
  {
   "cell_type": "markdown",
   "metadata": {},
   "source": [
    "Restrict dataset to a coherent subset in terms of data quantity"
   ]
  },
  {
   "cell_type": "code",
   "execution_count": null,
   "metadata": {
    "ExecuteTime": {
     "end_time": "2021-06-07T15:14:39.082351Z",
     "start_time": "2021-06-07T15:14:38.145738Z"
    }
   },
   "outputs": [],
   "source": [
    "data = data[is_normal_month & is_weekday & is_evening_peak]"
   ]
  },
  {
   "cell_type": "markdown",
   "metadata": {},
   "source": [
    "Is there still date heterogeneity?"
   ]
  },
  {
   "cell_type": "code",
   "execution_count": null,
   "metadata": {
    "ExecuteTime": {
     "end_time": "2021-06-07T15:14:41.678853Z",
     "start_time": "2021-06-07T15:14:39.261198Z"
    }
   },
   "outputs": [],
   "source": [
    "date_freq = data.groupby(\n",
    "    data[\"date\"].dt.date\n",
    ").size()"
   ]
  },
  {
   "cell_type": "code",
   "execution_count": null,
   "metadata": {
    "ExecuteTime": {
     "end_time": "2021-06-07T15:14:41.928332Z",
     "start_time": "2021-06-07T15:14:41.680197Z"
    }
   },
   "outputs": [],
   "source": [
    "plt.close()\n",
    "plt.scatter(date_freq.index, date_freq, alpha=0.5, marker=\".\")\n",
    "plt.xlabel(\"Date\")\n",
    "plt.ylabel(\"Nb of observations\")\n",
    "plt.savefig(PLOT_DIR + \"date_freq.pdf\")\n",
    "plt.show()"
   ]
  },
  {
   "cell_type": "code",
   "execution_count": null,
   "metadata": {
    "ExecuteTime": {
     "end_time": "2021-06-07T15:14:41.946509Z",
     "start_time": "2021-06-07T15:14:41.929827Z"
    }
   },
   "outputs": [],
   "source": [
    "normal_dates = date_freq[\n",
    "    (date_freq > 0.75*date_freq.median())\n",
    "    & (date_freq < 1.25*date_freq.median())\n",
    "].index.tolist()"
   ]
  },
  {
   "cell_type": "code",
   "execution_count": null,
   "metadata": {
    "ExecuteTime": {
     "end_time": "2021-06-07T15:14:42.583541Z",
     "start_time": "2021-06-07T15:14:42.517592Z"
    }
   },
   "outputs": [],
   "source": [
    "is_normal_date = data[\"date\"].isin(normal_dates)"
   ]
  },
  {
   "cell_type": "code",
   "execution_count": null,
   "metadata": {
    "ExecuteTime": {
     "end_time": "2021-06-07T15:14:46.824836Z",
     "start_time": "2021-06-07T15:14:46.790202Z"
    }
   },
   "outputs": [],
   "source": [
    "is_normal_date.mean()"
   ]
  },
  {
   "cell_type": "code",
   "execution_count": null,
   "metadata": {
    "ExecuteTime": {
     "end_time": "2021-06-07T15:14:50.859258Z",
     "start_time": "2021-06-07T15:14:50.309104Z"
    }
   },
   "outputs": [],
   "source": [
    "data = data[is_normal_date]"
   ]
  },
  {
   "cell_type": "markdown",
   "metadata": {},
   "source": [
    "New data size"
   ]
  },
  {
   "cell_type": "code",
   "execution_count": null,
   "metadata": {
    "ExecuteTime": {
     "end_time": "2021-06-07T15:14:51.855272Z",
     "start_time": "2021-06-07T15:14:51.829466Z"
    }
   },
   "outputs": [],
   "source": [
    "data.shape"
   ]
  },
  {
   "cell_type": "code",
   "execution_count": null,
   "metadata": {
    "ExecuteTime": {
     "end_time": "2021-06-07T15:14:52.326908Z",
     "start_time": "2021-06-07T15:14:52.305217Z"
    }
   },
   "outputs": [],
   "source": [
    "data.memory_usage().sum() / 1e9"
   ]
  },
  {
   "cell_type": "markdown",
   "metadata": {},
   "source": [
    "## Data quality"
   ]
  },
  {
   "cell_type": "markdown",
   "metadata": {},
   "source": [
    "Add next trip event in each row to allow for edge analysis"
   ]
  },
  {
   "cell_type": "code",
   "execution_count": null,
   "metadata": {
    "ExecuteTime": {
     "end_time": "2021-06-07T15:15:02.521154Z",
     "start_time": "2021-06-07T15:14:54.661552Z"
    }
   },
   "outputs": [],
   "source": [
    "data = add_next_event(data)"
   ]
  },
  {
   "cell_type": "markdown",
   "metadata": {},
   "source": [
    "Remove self-loops"
   ]
  },
  {
   "cell_type": "code",
   "execution_count": null,
   "metadata": {
    "ExecuteTime": {
     "end_time": "2021-06-07T15:15:27.541414Z",
     "start_time": "2021-06-07T15:15:26.019149Z"
    }
   },
   "outputs": [],
   "source": [
    "data = data[data[\"stop_id\"].values != data[\"next_stop_id\"].values]"
   ]
  },
  {
   "cell_type": "markdown",
   "metadata": {},
   "source": [
    "Add edge duration and delay columns"
   ]
  },
  {
   "cell_type": "code",
   "execution_count": null,
   "metadata": {
    "ExecuteTime": {
     "end_time": "2021-06-07T15:15:29.928164Z",
     "start_time": "2021-06-07T15:15:29.651279Z"
    }
   },
   "outputs": [],
   "source": [
    "data = add_delay_columns(data)"
   ]
  },
  {
   "cell_type": "markdown",
   "metadata": {},
   "source": [
    "Analyze edge durations"
   ]
  },
  {
   "cell_type": "code",
   "execution_count": null,
   "metadata": {
    "ExecuteTime": {
     "end_time": "2021-06-07T15:15:40.292764Z",
     "start_time": "2021-06-07T15:15:37.067298Z"
    }
   },
   "outputs": [],
   "source": [
    "for col in [\n",
    "    \"edge_duration_planned\",\n",
    "    \"edge_duration_real\",\n",
    "    \"event_delay\",\n",
    "    \"edge_delay\",\n",
    "]:\n",
    "    plt.close()\n",
    "    plt.yscale(\"log\")\n",
    "    data[col].hist(bins=50, color=\"red\")\n",
    "    plt.ylabel(\"Occurrences\")\n",
    "    plt.xlabel(col.replace(\"_\", \" \").capitalize())\n",
    "    plt.savefig(PLOT_DIR + \"histogram_nocleaning_{}.pdf\".format(col))\n",
    "    plt.show()"
   ]
  },
  {
   "cell_type": "markdown",
   "metadata": {},
   "source": [
    "Remove outliers"
   ]
  },
  {
   "cell_type": "code",
   "execution_count": null,
   "metadata": {
    "ExecuteTime": {
     "end_time": "2021-06-07T15:15:44.714497Z",
     "start_time": "2021-06-07T15:15:43.673450Z"
    },
    "scrolled": true
   },
   "outputs": [],
   "source": [
    "filtered_data = remove_outliers_delays(\n",
    "    data,\n",
    "    min_edge_duration_planned=0,\n",
    "    max_edge_duration_planned=10,\n",
    "    min_edge_duration_real=-np.inf,\n",
    "    max_edge_duration_real=np.inf,\n",
    "    min_edge_delay=-2,\n",
    "    max_edge_delay=10,\n",
    "    min_event_delay=-10,\n",
    "    max_event_delay=30,\n",
    ")"
   ]
  },
  {
   "cell_type": "code",
   "execution_count": null,
   "metadata": {
    "ExecuteTime": {
     "end_time": "2021-06-07T15:15:52.104891Z",
     "start_time": "2021-06-07T15:15:52.075878Z"
    }
   },
   "outputs": [],
   "source": [
    "data.shape, filtered_data.shape"
   ]
  },
  {
   "cell_type": "code",
   "execution_count": null,
   "metadata": {
    "ExecuteTime": {
     "end_time": "2021-06-07T15:15:56.498112Z",
     "start_time": "2021-06-07T15:15:53.723616Z"
    }
   },
   "outputs": [],
   "source": [
    "for col in [\n",
    "    \"edge_duration_planned\",\n",
    "    \"edge_duration_real\",\n",
    "    \"event_delay\",\n",
    "    \"edge_delay\",\n",
    "]:\n",
    "    plt.close()\n",
    "    plt.yscale(\"log\")\n",
    "    filtered_data[col].hist(color=\"green\", bins=50)\n",
    "    plt.ylabel(\"Occurrences\")\n",
    "    plt.xlabel(col.replace(\"_\", \" \").capitalize())\n",
    "    plt.savefig(PLOT_DIR + \"histogram_aftercleaning_{}.pdf\".format(col))\n",
    "    plt.show()"
   ]
  },
  {
   "cell_type": "code",
   "execution_count": null,
   "metadata": {
    "ExecuteTime": {
     "end_time": "2021-06-07T15:16:12.384817Z",
     "start_time": "2021-06-07T15:16:12.328641Z"
    }
   },
   "outputs": [],
   "source": [
    "data = filtered_data"
   ]
  },
  {
   "cell_type": "markdown",
   "metadata": {},
   "source": [
    "## Network"
   ]
  },
  {
   "cell_type": "code",
   "execution_count": null,
   "metadata": {
    "ExecuteTime": {
     "end_time": "2021-06-07T15:16:14.378917Z",
     "start_time": "2021-06-07T15:16:13.656218Z"
    }
   },
   "outputs": [],
   "source": [
    "data.groupby(\"stop_id\").size().shape"
   ]
  },
  {
   "cell_type": "code",
   "execution_count": null,
   "metadata": {
    "ExecuteTime": {
     "end_time": "2021-06-07T15:16:15.798266Z",
     "start_time": "2021-06-07T15:16:14.380177Z"
    }
   },
   "outputs": [],
   "source": [
    "data.groupby([\"stop_id\", \"next_stop_id\"]).size().shape"
   ]
  },
  {
   "cell_type": "code",
   "execution_count": null,
   "metadata": {
    "ExecuteTime": {
     "end_time": "2021-06-07T15:16:19.353071Z",
     "start_time": "2021-06-07T15:16:16.296195Z"
    }
   },
   "outputs": [],
   "source": [
    "G = build_network(data, stops, max_edge_rank=200)"
   ]
  },
  {
   "cell_type": "code",
   "execution_count": null,
   "metadata": {
    "ExecuteTime": {
     "end_time": "2021-06-07T15:16:20.159156Z",
     "start_time": "2021-06-07T15:16:20.134252Z"
    }
   },
   "outputs": [],
   "source": [
    "G.number_of_nodes(), G.number_of_edges()"
   ]
  },
  {
   "cell_type": "code",
   "execution_count": null,
   "metadata": {
    "ExecuteTime": {
     "end_time": "2021-06-07T15:16:29.010911Z",
     "start_time": "2021-06-07T15:16:28.623363Z"
    }
   },
   "outputs": [],
   "source": [
    "fig, ax = plt.subplots(figsize=(6, 6))\n",
    "plot_network(G, ax)\n",
    "ax.set_xlabel(\"Longitude\")\n",
    "ax.set_ylabel(\"Latitude\")\n",
    "plt.axis(\"scaled\")\n",
    "plt.savefig(PLOT_DIR + \"map_zurich.pdf\")"
   ]
  },
  {
   "cell_type": "markdown",
   "metadata": {},
   "source": [
    "Define edge ids"
   ]
  },
  {
   "cell_type": "code",
   "execution_count": null,
   "metadata": {
    "ExecuteTime": {
     "end_time": "2021-06-07T15:16:31.125309Z",
     "start_time": "2021-06-07T15:16:31.097781Z"
    }
   },
   "outputs": [],
   "source": [
    "edge_ids = pd.Series(\n",
    "    index=pd.MultiIndex.from_tuples(list(G.edges)),\n",
    "    data=np.arange(G.number_of_edges()),\n",
    "    name=\"edge_id\",\n",
    "    dtype=\"Int64\"\n",
    ")"
   ]
  },
  {
   "cell_type": "markdown",
   "metadata": {},
   "source": [
    "Add ids to graph and data"
   ]
  },
  {
   "cell_type": "code",
   "execution_count": null,
   "metadata": {
    "ExecuteTime": {
     "end_time": "2021-06-07T15:16:31.906147Z",
     "start_time": "2021-06-07T15:16:31.880393Z"
    }
   },
   "outputs": [],
   "source": [
    "for stop_id, next_stop_id in edge_ids.index:\n",
    "    G.edges[stop_id, next_stop_id][\"edge_id\"] = edge_ids[(stop_id, next_stop_id)]"
   ]
  },
  {
   "cell_type": "code",
   "execution_count": null,
   "metadata": {
    "ExecuteTime": {
     "end_time": "2021-06-07T15:16:34.801026Z",
     "start_time": "2021-06-07T15:16:32.210724Z"
    }
   },
   "outputs": [],
   "source": [
    "data = data.join(edge_ids, on=(\"stop_id\", \"next_stop_id\"))\n",
    "data = data[data[\"edge_id\"].notnull()]"
   ]
  },
  {
   "cell_type": "code",
   "execution_count": null,
   "metadata": {
    "ExecuteTime": {
     "end_time": "2021-06-07T15:16:34.827160Z",
     "start_time": "2021-06-07T15:16:34.802184Z"
    }
   },
   "outputs": [],
   "source": [
    "data.shape"
   ]
  },
  {
   "cell_type": "markdown",
   "metadata": {},
   "source": [
    "## Centering"
   ]
  },
  {
   "cell_type": "code",
   "execution_count": null,
   "metadata": {
    "ExecuteTime": {
     "end_time": "2021-06-07T15:16:36.266773Z",
     "start_time": "2021-06-07T15:16:36.200101Z"
    }
   },
   "outputs": [],
   "source": [
    "edge_delay_center = data.groupby(\"edge_id\")[\"edge_delay\"].mean()\n",
    "edge_delay_center.name = \"edge_delay_center\""
   ]
  },
  {
   "cell_type": "code",
   "execution_count": null,
   "metadata": {
    "ExecuteTime": {
     "end_time": "2021-06-07T15:16:38.180160Z",
     "start_time": "2021-06-07T15:16:37.449204Z"
    }
   },
   "outputs": [],
   "source": [
    "data = data.join(edge_delay_center, on=\"edge_id\")\n",
    "data[\"centered_edge_delay\"] = data[\"edge_delay\"] - data[\"edge_delay_center\"]"
   ]
  },
  {
   "cell_type": "markdown",
   "metadata": {},
   "source": [
    "# Transition estimation"
   ]
  },
  {
   "cell_type": "code",
   "execution_count": null,
   "metadata": {
    "ExecuteTime": {
     "end_time": "2021-06-07T15:16:46.489098Z",
     "start_time": "2021-06-07T15:16:46.280202Z"
    }
   },
   "outputs": [],
   "source": [
    "map_network(G)"
   ]
  },
  {
   "cell_type": "code",
   "execution_count": null,
   "metadata": {
    "ExecuteTime": {
     "end_time": "2021-06-07T15:16:50.930817Z",
     "start_time": "2021-06-07T15:16:50.893362Z"
    }
   },
   "outputs": [],
   "source": [
    "%matplotlib notebook"
   ]
  },
  {
   "cell_type": "code",
   "execution_count": null,
   "metadata": {
    "ExecuteTime": {
     "end_time": "2021-06-07T15:16:52.865363Z",
     "start_time": "2021-06-07T15:16:51.180419Z"
    }
   },
   "outputs": [],
   "source": [
    "plt.close()\n",
    "fig, ax = plt.subplots(figsize=(6, 7))\n",
    "interact_manual(\n",
    "    estimate_transition_and_plot,\n",
    "    data=fixed(data),\n",
    "    h0=fixed(0),\n",
    "    freq=(1, 10, 1),\n",
    "    log_lambda0=(-3, 0, 0.01),\n",
    "    log_weight_threshold=(-2, 0, 0.1),\n",
    "    G=fixed(G),\n",
    "    ax=fixed(ax),\n",
    "    continuous_update=False\n",
    ")"
   ]
  },
  {
   "cell_type": "code",
   "execution_count": null,
   "metadata": {
    "ExecuteTime": {
     "end_time": "2021-06-07T15:17:16.206386Z",
     "start_time": "2021-06-07T15:17:16.180842Z"
    }
   },
   "outputs": [],
   "source": [
    "%matplotlib inline"
   ]
  },
  {
   "cell_type": "code",
   "execution_count": null,
   "metadata": {
    "ExecuteTime": {
     "end_time": "2021-06-07T15:24:16.789370Z",
     "start_time": "2021-06-07T15:24:16.757921Z"
    }
   },
   "outputs": [],
   "source": [
    "lambda0_range = np.logspace(-2, 0, 100)\n",
    "freq_range = [1, 2, 3, 5, 7, 10, 15]"
   ]
  },
  {
   "cell_type": "code",
   "execution_count": null,
   "metadata": {
    "ExecuteTime": {
     "end_time": "2021-06-07T15:24:18.238112Z",
     "start_time": "2021-06-07T15:24:17.479679Z"
    }
   },
   "outputs": [],
   "source": [
    "dist = get_distance_matrix(G)"
   ]
  },
  {
   "cell_type": "code",
   "execution_count": null,
   "metadata": {
    "ExecuteTime": {
     "end_time": "2021-06-07T16:11:40.925624Z",
     "start_time": "2021-06-07T15:24:26.078616Z"
    }
   },
   "outputs": [],
   "source": [
    "mean_interac_dists_by_freq = {}\n",
    "densities_by_freq = {}\n",
    "\n",
    "for freq in freq_range:\n",
    "    thetas = estimate_transition(\n",
    "        data=data, freq=freq, lambda0_range=lambda0_range\n",
    "    )\n",
    "    mean_interac_dists_by_freq[freq] = np.array([\n",
    "        np.sum(np.abs(theta) * dist) / np.sum(np.abs(theta)) for theta in thetas\n",
    "    ])\n",
    "    densities_by_freq[freq] = np.array([\n",
    "        np.mean(np.abs(theta) > 1e-2) * theta.shape[0] for theta in thetas\n",
    "    ])"
   ]
  },
  {
   "cell_type": "code",
   "execution_count": null,
   "metadata": {
    "ExecuteTime": {
     "end_time": "2021-06-07T16:14:05.759635Z",
     "start_time": "2021-06-07T16:14:04.336510Z"
    }
   },
   "outputs": [],
   "source": [
    "plt.close()\n",
    "fig, ax = plt.subplots(2, 1, sharex=True, figsize=(8, 8))\n",
    "\n",
    "ax[1].axhline(y=0, color=\"k\", linestyle=\"dashed\")\n",
    "ax[0].axhline(y=0, color=\"k\", linestyle=\"dashed\")\n",
    "\n",
    "ax[1].axhline(y=dist.mean(), color=\"k\", label=\"mean inter-edge dist\", linestyle=\"dotted\")\n",
    "\n",
    "for freq in freq_range:\n",
    "    ax[0].plot(\n",
    "        lambda0_range, densities_by_freq[freq],\n",
    "        label=\"$\\\\Delta t = {}$ min\".format(freq),\n",
    "        marker=MARKERS[k]\n",
    "    )\n",
    "    ax[1].plot(\n",
    "        lambda0_range, mean_interac_dists_by_freq[freq],\n",
    "        label=\"$\\\\Delta t = {}$ min\".format(freq),\n",
    "        marker=MARKERS[k]\n",
    "    )\n",
    "\n",
    "ax[0].set_xscale(\"log\")\n",
    "ax[0].set_yscale(\"log\")\n",
    "ax[0].set_ylabel(\"Mean sparsity level $s$ of $\\\\theta$\")\n",
    "ax[0].legend()\n",
    "\n",
    "ax[1].set_xscale(\"log\")\n",
    "ax[1].set_ylabel(\"Average interaction distance [min]\")\n",
    "ax[1].set_xlabel(\"Regularization parameter $\\\\lambda_0$\")\n",
    "ax[1].legend()\n",
    "\n",
    "plt.tight_layout()\n",
    "plt.savefig(PLOT_DIR + \"regularization_effect.pdf\")\n",
    "plt.show()"
   ]
  },
  {
   "cell_type": "code",
   "execution_count": null,
   "metadata": {},
   "outputs": [],
   "source": [
    "data[\"edge_duration_planned\"].mean()"
   ]
  }
 ],
 "metadata": {
  "kernelspec": {
   "display_name": "Python 3",
   "language": "python",
   "name": "python3"
  },
  "language_info": {
   "codemirror_mode": {
    "name": "ipython",
    "version": 3
   },
   "file_extension": ".py",
   "mimetype": "text/x-python",
   "name": "python",
   "nbconvert_exporter": "python",
   "pygments_lexer": "ipython3",
   "version": "3.8.5"
  },
  "toc": {
   "base_numbering": 1,
   "nav_menu": {},
   "number_sections": true,
   "sideBar": true,
   "skip_h1_title": false,
   "title_cell": "Table of Contents",
   "title_sidebar": "Contents",
   "toc_cell": false,
   "toc_position": {
    "height": "calc(100% - 180px)",
    "left": "10px",
    "top": "150px",
    "width": "165px"
   },
   "toc_section_display": true,
   "toc_window_display": false
  },
  "varInspector": {
   "cols": {
    "lenName": 16,
    "lenType": 16,
    "lenVar": 40
   },
   "kernels_config": {
    "python": {
     "delete_cmd_postfix": "",
     "delete_cmd_prefix": "del ",
     "library": "var_list.py",
     "varRefreshCmd": "print(var_dic_list())"
    },
    "r": {
     "delete_cmd_postfix": ") ",
     "delete_cmd_prefix": "rm(",
     "library": "var_list.r",
     "varRefreshCmd": "cat(var_dic_list()) "
    }
   },
   "types_to_exclude": [
    "module",
    "function",
    "builtin_function_or_method",
    "instance",
    "_Feature"
   ],
   "window_display": false
  }
 },
 "nbformat": 4,
 "nbformat_minor": 4
}
